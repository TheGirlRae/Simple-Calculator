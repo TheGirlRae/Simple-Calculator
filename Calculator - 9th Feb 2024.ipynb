{
 "cells": [
  {
   "cell_type": "markdown",
   "id": "3aa2bc35",
   "metadata": {},
   "source": [
    "# Simple Calculator"
   ]
  },
  {
   "cell_type": "raw",
   "id": "c7fe4b0d",
   "metadata": {},
   "source": [
    "# Create a calculator that takes in two numbers entered by a user and performs any of the following operations:\n",
    "1) Addition, 2) Subtraction, 3) Multiplication, 4) Division."
   ]
  },
  {
   "cell_type": "code",
   "execution_count": 9,
   "id": "52b32dc3",
   "metadata": {},
   "outputs": [
    {
     "name": "stdout",
     "output_type": "stream",
     "text": [
      "Enter a number: 15\n",
      "Enter a number: 30\n",
      "\n",
      "Enter 1 to add \n",
      "Enter 2 to subtract \n",
      "Enter 3 to multiply \n",
      "Enter 4 to divide \n",
      ": 3\n",
      "450\n"
     ]
    }
   ],
   "source": [
    "num1 = int(input('Enter a number: '))\n",
    "num2 = int(input('Enter a number: '))\n",
    "\n",
    "req = input('\\nEnter 1 to add \\nEnter 2 to subtract \\nEnter 3 to multiply \\nEnter 4 to divide \\n: ')\n",
    "\n",
    "if req == '1':\n",
    "    print(num1 + num2)\n",
    "elif req == '2':\n",
    "    print(num1 - num2)\n",
    "elif req == '3':\n",
    "    print(num1 * num2)\n",
    "elif req == '4':\n",
    "    print(num1 / num2)\n",
    "else: \n",
    "    print('You didnt enter a number within the range of 1 to 4')\n"
   ]
  },
  {
   "cell_type": "code",
   "execution_count": 1,
   "id": "dfa04ba9",
   "metadata": {},
   "outputs": [
    {
     "name": "stdout",
     "output_type": "stream",
     "text": [
      "My name is Rae\n",
      "I am a good girl\n"
     ]
    }
   ],
   "source": [
    "print('My name is Rae\\nI am a good girl')"
   ]
  },
  {
   "cell_type": "code",
   "execution_count": 2,
   "id": "ed32449a",
   "metadata": {},
   "outputs": [
    {
     "name": "stdout",
     "output_type": "stream",
     "text": [
      "My name is Rae\tI am a good girl\n"
     ]
    }
   ],
   "source": [
    "print('My name is Rae\\tI am a good girl')"
   ]
  }
 ],
 "metadata": {
  "kernelspec": {
   "display_name": "Python 3 (ipykernel)",
   "language": "python",
   "name": "python3"
  },
  "language_info": {
   "codemirror_mode": {
    "name": "ipython",
    "version": 3
   },
   "file_extension": ".py",
   "mimetype": "text/x-python",
   "name": "python",
   "nbconvert_exporter": "python",
   "pygments_lexer": "ipython3",
   "version": "3.11.5"
  }
 },
 "nbformat": 4,
 "nbformat_minor": 5
}
